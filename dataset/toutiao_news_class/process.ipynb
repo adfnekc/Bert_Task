{
 "cells": [
  {
   "cell_type": "code",
   "execution_count": 7,
   "metadata": {},
   "outputs": [
    {
     "name": "stderr",
     "output_type": "stream",
     "text": [
      "/tmp/ipykernel_9546/3842652298.py:21: ParserWarning: Falling back to the 'python' engine because the 'c' engine does not support regex separators (separators > 1 char and different from '\\s+' are interpreted as regex); you can avoid this warning by specifying engine='python'.\n",
      "  pd.read_csv(\"./toutiao_cat_data.txt\",header=None,sep=\"_!_\").loc[:,[2,3]].to_csv(\"./toutiao_cat_data_formate.csv\",header=[\"label\",\"content\"])\n"
     ]
    }
   ],
   "source": [
    "\"\"\"\n",
    "100 民生 故事 news_story\n",
    "101 文化 文化 news_culture\n",
    "102 娱乐 娱乐 news_entertainment\n",
    "103 体育 体育 news_sports\n",
    "104 财经 财经 news_finance\n",
    "106 房产 房产 news_house\n",
    "107 汽车 汽车 news_car\n",
    "108 教育 教育 news_edu \n",
    "109 科技 科技 news_tech\n",
    "110 军事 军事 news_military\n",
    "112 旅游 旅游 news_travel\n",
    "113 国际 国际 news_world\n",
    "114 证券 股票 stock\n",
    "115 农业 三农 news_agriculture\n",
    "116 电竞 游戏 news_game\n",
    "\"\"\"\n",
    "\n",
    "import pandas as pd\n",
    "\n",
    "pd.read_csv(\"./toutiao_cat_data.txt\",header=None,sep=\"_!_\").loc[:,[2,3]].to_csv(\"./toutiao_cat_data_formate.csv\",header=[\"label\",\"content\"])"
   ]
  }
 ],
 "metadata": {
  "kernelspec": {
   "display_name": "Python 3",
   "language": "python",
   "name": "python3"
  },
  "language_info": {
   "codemirror_mode": {
    "name": "ipython",
    "version": 3
   },
   "file_extension": ".py",
   "mimetype": "text/x-python",
   "name": "python",
   "nbconvert_exporter": "python",
   "pygments_lexer": "ipython3",
   "version": "3.11.9"
  }
 },
 "nbformat": 4,
 "nbformat_minor": 2
}
